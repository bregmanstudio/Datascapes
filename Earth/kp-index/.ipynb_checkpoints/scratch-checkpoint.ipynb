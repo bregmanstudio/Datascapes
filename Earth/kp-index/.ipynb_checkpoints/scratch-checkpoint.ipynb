{
 "metadata": {
  "name": "",
  "signature": "sha256:103a5bdc7b9c162170abe38a5c20fd9b36647031adf76edf9643ef1646f23994"
 },
 "nbformat": 3,
 "nbformat_minor": 0,
 "worksheets": [
  {
   "cells": [
    {
     "cell_type": "code",
     "collapsed": false,
     "input": [
      "import pandas as pd\n",
      "from pylab import *\n"
     ],
     "language": "python",
     "metadata": {},
     "outputs": [],
     "prompt_number": 1
    },
    {
     "cell_type": "code",
     "collapsed": false,
     "input": [
      "rng = pd.date_range('1/1/2011', periods=72, freq='H')\n",
      "ts = pd.Series(randn(len(rng)), index=rng)"
     ],
     "language": "python",
     "metadata": {},
     "outputs": [],
     "prompt_number": 3
    },
    {
     "cell_type": "code",
     "collapsed": false,
     "input": [],
     "language": "python",
     "metadata": {},
     "outputs": []
    }
   ],
   "metadata": {}
  }
 ]
}