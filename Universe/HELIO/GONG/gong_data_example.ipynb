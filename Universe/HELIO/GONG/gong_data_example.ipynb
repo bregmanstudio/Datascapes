{
 "metadata": {
  "name": "",
  "signature": "sha256:ca6ac154029d2f998b96db1ccef6e31763cc115d9f07e17f981f7eb5bbe2bbcf"
 },
 "nbformat": 3,
 "nbformat_minor": 0,
 "worksheets": [
  {
   "cells": [
    {
     "cell_type": "markdown",
     "metadata": {},
     "source": [
      "<h1>MUS103 / MUS14.02: Datascapes</h1>\n",
      "<h2>Dartmouth College (Prof. Casey and Prof. Casas)</h2>\n",
      "\n",
      "<h1>Visualizing and Sonifying Helioseismology Data</h1>\n"
     ]
    },
    {
     "cell_type": "markdown",
     "metadata": {},
     "source": [
      "<h1>Acquire</h1>\n",
      "\n",
      "The following data were acquired from the [National Solar Observatory's Global Oscillation Network Group (GONG)](http://gong.nso.edu/). They are measurements from various sensors on an instrument orbiting a stable-point in the Earth-Sun system [(Lagrangian points)](http://www.space.com/30302-lagrange-points.html).\n",
      "\n",
      "You can find much more publicly available data at the GONG Web site, above, and its linked affiliate Web sites."
     ]
    },
    {
     "cell_type": "markdown",
     "metadata": {},
     "source": [
      "<h1>Parse</h1>\n",
      "\n",
      "We need to read the data and it is encoded in various different ways. First, let's read the data as images (helioseismology of the surface of the sun). There are several different instruments measuring different quantities on the surface, and near the surface, of the sun.\n",
      "<h3>Using python</h3>"
     ]
    },
    {
     "cell_type": "code",
     "collapsed": false,
     "input": [
      "from pylab import *\n",
      "import os, sys\n",
      "import glob\n",
      "import Image\n",
      "%matplotlib inline\n",
      "rcParams['figure.figsize'] = (10.0, 8.0)"
     ],
     "language": "python",
     "metadata": {},
     "outputs": []
    },
    {
     "cell_type": "code",
     "collapsed": false,
     "input": [
      "# The UNIX command 'wget' was used to acquire the data\n",
      "# We can load multiple files that match a pattern using globbing via the glob.glob() method\n",
      "flist = glob.glob(\"gong.nso.edu/data/magmap/QR/bq2/201501/*/*.jpg\")\n",
      "flist.sort() # in-place sorting of a list\n",
      "print \"number of images=\",len(flist)"
     ],
     "language": "python",
     "metadata": {},
     "outputs": []
    },
    {
     "cell_type": "code",
     "collapsed": false,
     "input": [
      "flist[:10] # show the first 10 entries"
     ],
     "language": "python",
     "metadata": {},
     "outputs": []
    },
    {
     "cell_type": "code",
     "collapsed": false,
     "input": [
      "flist[-10:] # show the last 10 entries"
     ],
     "language": "python",
     "metadata": {},
     "outputs": []
    },
    {
     "cell_type": "code",
     "collapsed": false,
     "input": [
      "jpgfile = Image.open(flist[0])\n",
      "jpgfile.size"
     ],
     "language": "python",
     "metadata": {},
     "outputs": []
    },
    {
     "cell_type": "code",
     "collapsed": false,
     "input": [
      "imshow(jpgfile)\n"
     ],
     "language": "python",
     "metadata": {},
     "outputs": []
    },
    {
     "cell_type": "code",
     "collapsed": false,
     "input": [
      "# Convert Image to Grayscale in the range [0.0,1.0]\n",
      "data = array(jpgfile.getdata()) / 255.\n",
      "data = data.reshape(jpgfile.size[1],jpgfile.size[0],3) # imWidth x imHeight x 3 RGB channels\n",
      "imshow(data.mean(2), cmap=cm.gray) # take mean of color channels to create single-channel grayscale image\n"
     ],
     "language": "python",
     "metadata": {},
     "outputs": []
    },
    {
     "cell_type": "markdown",
     "metadata": {},
     "source": [
      "<h1>Working with High Resolution (uncompressed) FITS images</h1>"
     ]
    },
    {
     "cell_type": "code",
     "collapsed": false,
     "input": [
      "# in a terminal, type the command \"sudo easy_install pyfits\" to install the pyfits library\n",
      "import pyfits   # a python library to read fits images"
     ],
     "language": "python",
     "metadata": {},
     "outputs": []
    },
    {
     "cell_type": "code",
     "collapsed": false,
     "input": [
      "# 36-day time-series data from http://gong2.nso.edu/archive\n",
      "f = pyfits.open('mrvmt150702d000.fits')\n",
      "f.info()"
     ],
     "language": "python",
     "metadata": {},
     "outputs": []
    },
    {
     "cell_type": "code",
     "collapsed": false,
     "input": [
      "plot(f[0].data[0,0,:])"
     ],
     "language": "python",
     "metadata": {},
     "outputs": []
    },
    {
     "cell_type": "code",
     "collapsed": false,
     "input": [
      "from bregman.suite import *"
     ],
     "language": "python",
     "metadata": {},
     "outputs": []
    },
    {
     "cell_type": "code",
     "collapsed": false,
     "input": [
      "play(f[0].data[0,0,:], 11025)"
     ],
     "language": "python",
     "metadata": {},
     "outputs": []
    },
    {
     "cell_type": "code",
     "collapsed": false,
     "input": [
      "flist = glob.glob('gong.nso.edu/*/*/*/*/*/*/*.gz')\n",
      "flist.sort()\n",
      "print \"num files=\", len(flist)"
     ],
     "language": "python",
     "metadata": {},
     "outputs": []
    },
    {
     "cell_type": "code",
     "collapsed": false,
     "input": [
      "flist[:10]"
     ],
     "language": "python",
     "metadata": {},
     "outputs": []
    },
    {
     "cell_type": "code",
     "collapsed": false,
     "input": [
      "f = pyfits.open(flist[0])"
     ],
     "language": "python",
     "metadata": {},
     "outputs": []
    },
    {
     "cell_type": "code",
     "collapsed": false,
     "input": [
      "f[0].data # the data array is in a list"
     ],
     "language": "python",
     "metadata": {},
     "outputs": []
    },
    {
     "cell_type": "code",
     "collapsed": false,
     "input": [
      "imshow(f[0].data)\n",
      "colorbar()"
     ],
     "language": "python",
     "metadata": {},
     "outputs": []
    },
    {
     "cell_type": "code",
     "collapsed": false,
     "input": [
      "# Loop over images in flist and create a 3D array with time, y, x indices\n",
      "images = [] # make a new empty list, same as images = list()\n",
      "for fname in flist: # loop over each item in flist, with variable fname\n",
      "    fitsfile = pyfits.open(fname)\n",
      "    images.append(fitsfile[0].data)\n",
      "images = array(images)"
     ],
     "language": "python",
     "metadata": {},
     "outputs": []
    },
    {
     "cell_type": "code",
     "collapsed": false,
     "input": [
      "# example of more pythonic way to do the same \n",
      "images = array([pyfits.open(fname)[0].data for fname in flist])"
     ],
     "language": "python",
     "metadata": {},
     "outputs": []
    },
    {
     "cell_type": "code",
     "collapsed": false,
     "input": [
      "images.shape"
     ],
     "language": "python",
     "metadata": {},
     "outputs": []
    },
    {
     "cell_type": "code",
     "collapsed": false,
     "input": [
      "plot(images[:, 95, 220])"
     ],
     "language": "python",
     "metadata": {},
     "outputs": []
    },
    {
     "cell_type": "code",
     "collapsed": false,
     "input": [],
     "language": "python",
     "metadata": {},
     "outputs": []
    },
    {
     "cell_type": "code",
     "collapsed": false,
     "input": [],
     "language": "python",
     "metadata": {},
     "outputs": []
    }
   ],
   "metadata": {}
  }
 ]
}