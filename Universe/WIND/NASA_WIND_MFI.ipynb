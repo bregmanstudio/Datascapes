{
 "metadata": {
  "name": "",
  "signature": "sha256:3d824624180def8d50c7abd0022e615085631151890bc7435d15ceab6bc38f99"
 },
 "nbformat": 3,
 "nbformat_minor": 0,
 "worksheets": [
  {
   "cells": [
    {
     "cell_type": "code",
     "collapsed": false,
     "input": [
      "# http://wind.nasa.gov/mfi_swe_plot.php\n",
      "#http://cdaweb.gsfc.nasa.gov/misc/NotesW.html#WI_H0_MFI"
     ],
     "language": "python",
     "metadata": {},
     "outputs": []
    }
   ],
   "metadata": {}
  }
 ]
}